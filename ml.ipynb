{
 "cells": [
  {
   "cell_type": "code",
   "execution_count": 4,
   "id": "46eb0206",
   "metadata": {},
   "outputs": [],
   "source": [
    "import pandas as pd # it is python library  use  analyse dataset"
   ]
  },
  {
   "cell_type": "code",
   "execution_count": 5,
   "id": "f5bf6318",
   "metadata": {},
   "outputs": [
    {
     "data": {
      "text/html": [
       "<div>\n",
       "<style scoped>\n",
       "    .dataframe tbody tr th:only-of-type {\n",
       "        vertical-align: middle;\n",
       "    }\n",
       "\n",
       "    .dataframe tbody tr th {\n",
       "        vertical-align: top;\n",
       "    }\n",
       "\n",
       "    .dataframe thead th {\n",
       "        text-align: right;\n",
       "    }\n",
       "</style>\n",
       "<table border=\"1\" class=\"dataframe\">\n",
       "  <thead>\n",
       "    <tr style=\"text-align: right;\">\n",
       "      <th></th>\n",
       "      <th>5.0</th>\n",
       "      <th>3.5</th>\n",
       "      <th>1.4</th>\n",
       "      <th>0.2</th>\n",
       "      <th>Iris-setosa</th>\n",
       "    </tr>\n",
       "  </thead>\n",
       "  <tbody>\n",
       "    <tr>\n",
       "      <th>0</th>\n",
       "      <td>4.9</td>\n",
       "      <td>3.0</td>\n",
       "      <td>1.4</td>\n",
       "      <td>0.2</td>\n",
       "      <td>Iris-setosa</td>\n",
       "    </tr>\n",
       "    <tr>\n",
       "      <th>1</th>\n",
       "      <td>4.7</td>\n",
       "      <td>3.2</td>\n",
       "      <td>1.3</td>\n",
       "      <td>0.2</td>\n",
       "      <td>Iris-setosa</td>\n",
       "    </tr>\n",
       "    <tr>\n",
       "      <th>2</th>\n",
       "      <td>4.6</td>\n",
       "      <td>3.1</td>\n",
       "      <td>1.5</td>\n",
       "      <td>0.2</td>\n",
       "      <td>Iris-setosa</td>\n",
       "    </tr>\n",
       "    <tr>\n",
       "      <th>3</th>\n",
       "      <td>5.0</td>\n",
       "      <td>3.6</td>\n",
       "      <td>1.4</td>\n",
       "      <td>0.2</td>\n",
       "      <td>Iris-setosa</td>\n",
       "    </tr>\n",
       "    <tr>\n",
       "      <th>4</th>\n",
       "      <td>5.4</td>\n",
       "      <td>3.9</td>\n",
       "      <td>1.7</td>\n",
       "      <td>0.4</td>\n",
       "      <td>Iris-setosa</td>\n",
       "    </tr>\n",
       "    <tr>\n",
       "      <th>5</th>\n",
       "      <td>4.6</td>\n",
       "      <td>3.4</td>\n",
       "      <td>1.4</td>\n",
       "      <td>0.3</td>\n",
       "      <td>Iris-setosa</td>\n",
       "    </tr>\n",
       "    <tr>\n",
       "      <th>6</th>\n",
       "      <td>5.0</td>\n",
       "      <td>3.4</td>\n",
       "      <td>1.5</td>\n",
       "      <td>0.2</td>\n",
       "      <td>Iris-setosa</td>\n",
       "    </tr>\n",
       "    <tr>\n",
       "      <th>7</th>\n",
       "      <td>4.4</td>\n",
       "      <td>2.9</td>\n",
       "      <td>1.4</td>\n",
       "      <td>0.2</td>\n",
       "      <td>Iris-setosa</td>\n",
       "    </tr>\n",
       "    <tr>\n",
       "      <th>8</th>\n",
       "      <td>4.9</td>\n",
       "      <td>3.1</td>\n",
       "      <td>1.5</td>\n",
       "      <td>0.1</td>\n",
       "      <td>Iris-setosa</td>\n",
       "    </tr>\n",
       "    <tr>\n",
       "      <th>9</th>\n",
       "      <td>5.4</td>\n",
       "      <td>3.7</td>\n",
       "      <td>1.5</td>\n",
       "      <td>0.2</td>\n",
       "      <td>Iris-setosa</td>\n",
       "    </tr>\n",
       "  </tbody>\n",
       "</table>\n",
       "</div>"
      ],
      "text/plain": [
       "   5.0  3.5  1.4  0.2  Iris-setosa\n",
       "0  4.9  3.0  1.4  0.2  Iris-setosa\n",
       "1  4.7  3.2  1.3  0.2  Iris-setosa\n",
       "2  4.6  3.1  1.5  0.2  Iris-setosa\n",
       "3  5.0  3.6  1.4  0.2  Iris-setosa\n",
       "4  5.4  3.9  1.7  0.4  Iris-setosa\n",
       "5  4.6  3.4  1.4  0.3  Iris-setosa\n",
       "6  5.0  3.4  1.5  0.2  Iris-setosa\n",
       "7  4.4  2.9  1.4  0.2  Iris-setosa\n",
       "8  4.9  3.1  1.5  0.1  Iris-setosa\n",
       "9  5.4  3.7  1.5  0.2  Iris-setosa"
      ]
     },
     "execution_count": 5,
     "metadata": {},
     "output_type": "execute_result"
    }
   ],
   "source": [
    "dataset = pd.read_csv(r\"E:\\BHARAT.DATA\\padhai\\carrier\\work\\dataset\\iris\\iris.data\")  # read_csv use to convert dataset into dataframe so we can easily manulate it data\n",
    "dataset.head(10)"
   ]
  },
  {
   "cell_type": "code",
   "execution_count": 6,
   "id": "557a8419",
   "metadata": {},
   "outputs": [
    {
     "data": {
      "text/plain": [
       "(149, 5)"
      ]
     },
     "execution_count": 6,
     "metadata": {},
     "output_type": "execute_result"
    }
   ],
   "source": [
    "dataset.shape  # it  give me total numebr of rows and columns"
   ]
  },
  {
   "cell_type": "code",
   "execution_count": 7,
   "id": "06cd91db",
   "metadata": {},
   "outputs": [
    {
     "data": {
      "text/plain": [
       "5.0            0\n",
       "3.5            0\n",
       "1.4            3\n",
       "0.2            2\n",
       "Iris-setosa    0\n",
       "dtype: int64"
      ]
     },
     "execution_count": 7,
     "metadata": {},
     "output_type": "execute_result"
    }
   ],
   "source": [
    "dataset.isnull().sum()  # this provide  numeber of null values in each colums "
   ]
  },
  {
   "cell_type": "code",
   "execution_count": null,
   "id": "fb9782d3",
   "metadata": {},
   "outputs": [],
   "source": [
    "dataset.columns = ['bharat', 'abhishek', 'aryan', 'xyz', 'species']\n",
    "# here i change the column of my dataset  for   temprerory\n",
    "\n",
    "dataset.to_csv(r'E:\\BHARAT.DATA\\padhai\\carrier\\work\\dataset\\iris\\iris.data.csv', index=False)\n",
    "# this above  line use to make  chagnes permanet in my notepad dataset \n",
    "#ok it make  another text file  and make change and than save"
   ]
  },
  {
   "cell_type": "code",
   "execution_count": 26,
   "id": "929267fe",
   "metadata": {},
   "outputs": [
    {
     "data": {
      "text/plain": [
       "(149, 5)"
      ]
     },
     "execution_count": 26,
     "metadata": {},
     "output_type": "execute_result"
    }
   ],
   "source": [
    "dataset.shape\n"
   ]
  },
  {
   "cell_type": "code",
   "execution_count": 27,
   "id": "d4a4fb0e",
   "metadata": {},
   "outputs": [
    {
     "data": {
      "text/plain": [
       "np.int64(5)"
      ]
     },
     "execution_count": 27,
     "metadata": {},
     "output_type": "execute_result"
    }
   ],
   "source": [
    "dataset.isnull().sum().sum()  # this provide total number of null  value in dataset"
   ]
  },
  {
   "cell_type": "code",
   "execution_count": 28,
   "id": "902d0e01",
   "metadata": {},
   "outputs": [
    {
     "data": {
      "text/plain": [
       "bharat      0.000000\n",
       "abhishek    0.000000\n",
       "aryan       2.013423\n",
       "xyz         1.342282\n",
       "species     0.000000\n",
       "dtype: float64"
      ]
     },
     "execution_count": 28,
     "metadata": {},
     "output_type": "execute_result"
    }
   ],
   "source": [
    "(dataset.isnull().sum()/dataset.shape[0])*100  # dataset.shape[0]  piche zero give total numebr of rows\n",
    "# it give the  percentage that  that mere data kitna khali h\n",
    "# ai how much percent  null value as each column  "
   ]
  },
  {
   "cell_type": "code",
   "execution_count": 29,
   "id": "931b66db",
   "metadata": {},
   "outputs": [
    {
     "data": {
      "text/plain": [
       "np.float64(6.711409395973154e-05)"
      ]
     },
     "execution_count": 29,
     "metadata": {},
     "output_type": "execute_result"
    }
   ],
   "source": [
    "(dataset.isnull().sum().sum()/(dataset.shape[0]*dataset.shape[1]))/100\n",
    "\n",
    "# it have 6% null value  is  our dataset having   null value more than 50%\n",
    "#than dont use that  dataset"
   ]
  },
  {
   "cell_type": "code",
   "execution_count": 30,
   "id": "f734f571",
   "metadata": {},
   "outputs": [],
   "source": [
    "import seaborn as sns\n",
    "#sns refers to the Seaborn library, which is a Python data visualization \n",
    "# library based on matplotlib. It's commonly used for making \n",
    "# statistical graphics that are more attractive and informative.\n",
    "\n",
    "import matplotlib.pyplot as plt\n",
    "\n",
    "#Seaborn depends on Matplotlib to do the actual plotting.\n",
    "#When you use sns.heatmap() or sns.boxplot(), Seaborn internally uses Matplotlib to draw the plot.\n",
    "#That’s why we often still use plt.show() from Matplotlib after a Seaborn plot."
   ]
  },
  {
   "cell_type": "code",
   "execution_count": 31,
   "id": "cc07df12",
   "metadata": {},
   "outputs": [
    {
     "data": {
      "image/png": "[encoded data removed]",
      "text/plain": [
       "<Figure size 640x480 with 2 Axes>"
      ]
     },
     "metadata": {},
     "output_type": "display_data"
    }
   ],
   "source": [
    "sns.heatmap(dataset.isnull())\n",
    "\n",
    "plt.show()"
   ]
  },
  {
   "cell_type": "code",
   "execution_count": null,
   "id": "63005597",
   "metadata": {},
   "outputs": [],
   "source": []
  }
 ],
 "metadata": {
  "kernelspec": {
   "display_name": "Python 3",
   "language": "python",
   "name": "python3"
  },
  "language_info": {
   "codemirror_mode": {
    "name": "ipython",
    "version": 3
   },
   "file_extension": ".py",
   "mimetype": "text/x-python",
   "name": "python",
   "nbconvert_exporter": "python",
   "pygments_lexer": "ipython3",
   "version": "3.13.3"
  }
 },
 "nbformat": 4,
 "nbformat_minor": 5
}
